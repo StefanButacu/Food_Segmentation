{
 "cells": [
  {
   "cell_type": "code",
   "execution_count": 1,
   "metadata": {
    "collapsed": true
   },
   "outputs": [],
   "source": [
    "import numpy as np\n",
    "import torch\n",
    "from tqdm import tqdm\n",
    "\n",
    "from torch import nn\n",
    "from torch.optim import Adam\n",
    "import matplotlib.pyplot as plt\n",
    "from albumentations.pytorch import ToTensorV2\n",
    "import albumentations as A\n",
    "\n",
    "from model.FoodDataset import FoodDataset\n",
    "from model.architectures.unet import Unet_model"
   ]
  },
  {
   "cell_type": "code",
   "execution_count": 2,
   "outputs": [],
   "source": [
    "torch.cuda.empty_cache()\n"
   ],
   "metadata": {
    "collapsed": false
   }
  },
  {
   "cell_type": "code",
   "execution_count": 3,
   "outputs": [],
   "source": [
    "image_paths = [\"E:\\Licenta_DOC\\API_Segmentation\\data\\generated\\img_dir\"]\n",
    "seg_paths = [\"E:\\Licenta_DOC\\API_Segmentation\\data\\generated\\\\ann_dir\"]\n",
    "\n",
    "LOAD_MODEL = True\n",
    "def get_images(batch_size=16,shuffle=True,pin_memory=True):\n",
    "    data = FoodDataset(image_paths, seg_paths,transform = t1)\n",
    "    train_size = int(0.8 * data.__len__())\n",
    "    test_size = data.__len__() - train_size\n",
    "    train_dataset, test_dataset = torch.utils.data.random_split(data, [train_size, test_size])\n",
    "    train_batch = torch.utils.data.DataLoader(train_dataset, batch_size=batch_size, shuffle=shuffle, pin_memory=pin_memory)\n",
    "    test_batch = torch.utils.data.DataLoader(test_dataset, batch_size=batch_size, shuffle=shuffle, pin_memory=pin_memory)\n",
    "    return train_batch,test_batch\n"
   ],
   "metadata": {
    "collapsed": false
   }
  },
  {
   "cell_type": "code",
   "execution_count": null,
   "outputs": [],
   "source": [
    "torch.cuda.memory_summary()\n"
   ],
   "metadata": {
    "collapsed": false,
    "pycharm": {
     "is_executing": true
    }
   }
  },
  {
   "cell_type": "code",
   "execution_count": 5,
   "outputs": [],
   "source": [
    "\n",
    "t1 = A.Compose([\n",
    "    A.Resize(256,256),\n",
    "    A.augmentations.transforms.Normalize(mean=(0.5, 0.5, 0.5), std=(0.5, 0.5, 0.5)),\n",
    "    ToTensorV2()\n",
    "])\n",
    "\n",
    "train_batch,test_batch = get_images()\n",
    "\n"
   ],
   "metadata": {
    "collapsed": false
   }
  },
  {
   "cell_type": "code",
   "execution_count": 6,
   "outputs": [],
   "source": [
    "from model.checkpoints import load_checkpoint\n",
    "\n",
    "# for img,mask in train_batch:\n",
    "#     img1 = np.transpose(img[0,:,:,:],(1,2,0))\n",
    "#     mask1 = np.array(mask[0,:,:])\n",
    "#     img2 = np.transpose(img[1,:,:,:],(1,2,0))\n",
    "#     mask2 = np.array(mask[1,:,:])\n",
    "#     img3 = np.transpose(img[2,:,:,:],(1,2,0))\n",
    "#     mask3 = np.array(mask[2,:,:])\n",
    "#     fig , ax =  plt.subplots(3, 2, figsize=(18, 18))\n",
    "#     ax[0][0].imshow(img1)\n",
    "#     ax[0][1].imshow(mask1)\n",
    "#     ax[1][0].imshow(img2)\n",
    "#     ax[1][1].imshow(mask2)\n",
    "#     ax[2][0].imshow(img3)\n",
    "#     ax[2][1].imshow(mask3)\n",
    "#     break\n",
    "\n",
    "DEVICE = \"cuda\" if torch.cuda.is_available() else \"cpu\"\n",
    "\n",
    "model = Unet_model().to(DEVICE)\n",
    "if LOAD_MODEL:\n",
    "    load_checkpoint(torch.load('checkpoint-new.pth.tar'), model)\n"
   ],
   "metadata": {
    "collapsed": false
   }
  },
  {
   "cell_type": "code",
   "execution_count": 7,
   "outputs": [
    {
     "data": {
      "text/plain": "'cuda'"
     },
     "execution_count": 7,
     "metadata": {},
     "output_type": "execute_result"
    }
   ],
   "source": [
    "DEVICE"
   ],
   "metadata": {
    "collapsed": false
   }
  },
  {
   "cell_type": "code",
   "execution_count": null,
   "outputs": [],
   "source": [
    "from model.checkpoints import save_checkpoint\n",
    "\n",
    "file = open(\"loss_data/unet_ce_data.csv\", \"a\")\n",
    "\n",
    "from torchsummary import summary\n",
    "summary(model, (3, 256, 256))\n",
    "\n",
    "LEARNING_RATE = 1e-4\n",
    "num_epochs = 3\n",
    "\n",
    "loss_fn = nn.CrossEntropyLoss()\n",
    "optimizer = Adam(model.parameters(), lr=LEARNING_RATE)\n",
    "scaler = torch.cuda.amp.GradScaler()\n",
    "\n",
    "for epoch in range(num_epochs):\n",
    "    loop = tqdm(enumerate(train_batch),total=len(train_batch))\n",
    "    epoch_loss = 0.0\n",
    "\n",
    "    for batch_idx, (data, targets) in loop:\n",
    "        data = data.to(DEVICE)\n",
    "        targets = targets.to(DEVICE)\n",
    "        targets = targets.type(torch.long)\n",
    "        # forward\n",
    "        with torch.cuda.amp.autocast():\n",
    "            predictions = model(data)\n",
    "            loss = loss_fn(predictions, targets)\n",
    "\n",
    "        # backward\n",
    "        optimizer.zero_grad()\n",
    "        scaler.scale(loss).backward()\n",
    "        scaler.step(optimizer)\n",
    "        scaler.update()\n",
    "\n",
    "        # update tqdm loop\n",
    "        epoch_loss += loss.item()\n",
    "        loop.set_postfix(loss=loss.item())\n",
    "\n",
    "    avg_loss = epoch_loss / loop.total\n",
    "\n",
    "    print(f'Epoch [{epoch+1}/{num_epochs}], Loss: {avg_loss:.4f}')\n",
    "    file.write(f\"\\n{epoch+1},{avg_loss:.4f}\")\n",
    "\n",
    "\n",
    "file.close()\n",
    "\n",
    "# save checkpoint\n",
    "checkpoint =  {\"state_dict\": model.state_dict(),\n",
    "            \"optimizer\": optimizer.state_dict()\n",
    "           }\n",
    "save_checkpoint(checkpoint,'checkpoint-new.pth.tar' )\n",
    "\n"
   ],
   "metadata": {
    "collapsed": false,
    "pycharm": {
     "is_executing": true
    }
   }
  },
  {
   "cell_type": "code",
   "execution_count": 9,
   "outputs": [],
   "source": [
    "\n",
    "def check_accuracy(loader, model):\n",
    "    num_correct = 0\n",
    "    num_pixels = 0\n",
    "    dice_score = 0\n",
    "    model.eval()\n",
    "    iou = 0\n",
    "    with torch.no_grad():\n",
    "        for x, y in loader:\n",
    "            x = x.to(DEVICE)\n",
    "            y = y.to(DEVICE)\n",
    "            softmax = nn.Softmax(dim=1)\n",
    "            preds = torch.argmax(softmax(model(x)),axis=1)\n",
    "            num_correct += (preds == y).sum()\n",
    "            num_pixels += torch.numel(preds)\n",
    "            dice_score += (2 * (preds * y).sum()) / ((preds + y).sum() + 1e-8)\n",
    "            intersection = torch.logical_and(preds, y).sum()\n",
    "            union = torch.logical_or(preds, y).sum()\n",
    "            iou += (intersection + 1e-8) / (union + 1e-8)\n",
    "\n",
    "    print(f\"Got {num_correct}/{num_pixels} with acc {num_correct/num_pixels*100:.2f}\")\n",
    "    print(f\"Dice score: {dice_score/len(loader)}\")\n",
    "    print(f\"IoU: {iou/len(loader)}\")\n",
    "    model.train()\n",
    "\n"
   ],
   "metadata": {
    "collapsed": false
   }
  },
  {
   "cell_type": "code",
   "execution_count": null,
   "outputs": [],
   "source": [
    "print(\"Train\")\n",
    "# check_accuracy(train_batch, model)"
   ],
   "metadata": {
    "collapsed": false,
    "pycharm": {
     "is_executing": true
    }
   }
  },
  {
   "cell_type": "code",
   "execution_count": null,
   "outputs": [],
   "source": [
    "\n",
    "print(\"Test\")\n",
    "check_accuracy(test_batch, model)"
   ],
   "metadata": {
    "collapsed": false,
    "pycharm": {
     "is_executing": true
    }
   }
  },
  {
   "cell_type": "code",
   "execution_count": null,
   "outputs": [],
   "source": [
    "\n",
    "from skimage import color\n",
    "\n",
    "for x,y in test_batch:\n",
    "    x = x.to(DEVICE)\n",
    "    fig , ax =  plt.subplots(3, 4, figsize=(72, 72))\n",
    "    softmax = nn.Softmax(dim=1)\n",
    "    preds = torch.argmax(softmax(model(x)),axis=1).to('cpu')\n",
    "    img1 = np.transpose(np.array(x[0,:,:,:].to('cpu')),(1,2,0))\n",
    "    preds1 = np.array(preds[0,:,:])\n",
    "    mask1 = np.array(y[0,:,:])\n",
    "    print(\"Pred1\", np.unique(preds1))\n",
    "    img2 = np.transpose(np.array(x[1,:,:,:].to('cpu')),(1,2,0))\n",
    "    preds2 = np.array(preds[1,:,:])\n",
    "    mask2 = np.array(y[1,:,:])\n",
    "    # print(\"Pred2\", np.unique(preds2))\n",
    "\n",
    "    img3 = np.transpose(np.array(x[2,:,:,:].to('cpu')),(1,2,0))\n",
    "    preds3 = np.array(preds[2,:,:])\n",
    "    mask3 = np.array(y[2,:,:])\n",
    "    # print(\"Pred3\", np.unique(preds3))\n",
    "\n",
    "    ax[0,0].set_title('Image')\n",
    "    ax[0,1].set_title('Prediction')\n",
    "    ax[0,2].set_title('Mask')\n",
    "    ax[0,3].set_title('Overlay')\n",
    "    ax[1,0].set_title('Image')\n",
    "    ax[1,1].set_title('Prediction')\n",
    "    ax[1,2].set_title('Mask')\n",
    "    ax[1,3].set_title('Overlay')\n",
    "    ax[2,0].set_title('Image')\n",
    "    ax[2,1].set_title('Prediction')\n",
    "    ax[2,2].set_title('Mask')\n",
    "    ax[2,3].set_title('Overlay')\n",
    "    ax[0][0].axis(\"off\")\n",
    "    ax[1][0].axis(\"off\")\n",
    "    ax[2][0].axis(\"off\")\n",
    "    ax[0][1].axis(\"off\")\n",
    "    ax[1][1].axis(\"off\")\n",
    "    ax[2][1].axis(\"off\")\n",
    "    ax[0][2].axis(\"off\")\n",
    "    ax[1][2].axis(\"off\")\n",
    "    ax[2][2].axis(\"off\")\n",
    "    ax[2][3].axis(\"off\")\n",
    "    ax[0][0].imshow(img1)\n",
    "    ax[0][1].imshow(preds1)\n",
    "    ax[0][2].imshow(mask1)\n",
    "    ax[0][3].imshow(color.label2rgb(mask1, img1, saturation=1, alpha=0.5, bg_color=None))\n",
    "\n",
    "    ax[1][0].imshow(img2)\n",
    "    ax[1][1].imshow(preds2)\n",
    "    ax[1][2].imshow(mask2)\n",
    "    ax[2][0].imshow(img3)\n",
    "    ax[2][1].imshow(preds3)\n",
    "    ax[2][2].imshow(mask3)\n",
    "    break"
   ],
   "metadata": {
    "collapsed": false,
    "pycharm": {
     "is_executing": true
    }
   }
  },
  {
   "cell_type": "code",
   "execution_count": null,
   "outputs": [],
   "source": [
    "model = Unet_model().to(DEVICE)\n",
    "load_checkpoint(torch.load('checkpoint-new.pth.tar'), model)\n",
    "\n",
    "from PIL import Image\n",
    "\n",
    "x = np.array(Image.open('E:\\Licenta_DOC\\API_Segmentation\\data\\\\train\\img\\\\00000000.jpg'))\n",
    "\n",
    "x = t1(image=x)['image']\n",
    "x = x.to(DEVICE)\n",
    "\n",
    "print(x.shape)\n",
    "x = x.unsqueeze(0)\n",
    "print(x.shape)\n",
    "softmax = nn.Softmax(dim = 1)\n",
    "preds = torch.argmax(softmax(model(x)), axis=1).to('cpu')\n",
    "img1 = np.transpose(np.array(x[0, :, :, :].to('cpu')), (1, 2, 0))\n",
    "preds1 = np.array(preds[0, :, :])\n",
    "# 160 x 240\n",
    "print(preds1)\n",
    "\n",
    "fig , ax =  plt.subplots(2, 2, figsize=(18, 18))\n",
    "ax[0,0].set_title('Image')\n",
    "ax[0,1].set_title('Prediction')\n",
    "ax[0][0].axis(\"off\")\n",
    "ax[1][0].axis(\"off\")\n",
    "ax[0][0].imshow(img1)\n",
    "ax[0][1].imshow(preds1)\n",
    "# ax[0][2].imshow(mask1)"
   ],
   "metadata": {
    "collapsed": false
   }
  },
  {
   "cell_type": "code",
   "execution_count": null,
   "outputs": [],
   "source": [],
   "metadata": {
    "collapsed": false
   }
  },
  {
   "cell_type": "code",
   "execution_count": null,
   "outputs": [],
   "source": [],
   "metadata": {
    "collapsed": false
   }
  }
 ],
 "metadata": {
  "kernelspec": {
   "display_name": "Python 3",
   "language": "python",
   "name": "python3"
  },
  "language_info": {
   "codemirror_mode": {
    "name": "ipython",
    "version": 2
   },
   "file_extension": ".py",
   "mimetype": "text/x-python",
   "name": "python",
   "nbconvert_exporter": "python",
   "pygments_lexer": "ipython2",
   "version": "2.7.6"
  }
 },
 "nbformat": 4,
 "nbformat_minor": 0
}
