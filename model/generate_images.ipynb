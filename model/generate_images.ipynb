{
 "cells": [
  {
   "cell_type": "code",
   "execution_count": 16,
   "metadata": {
    "collapsed": true
   },
   "outputs": [],
   "source": [
    "import os\n",
    "data_dir = ['E:/PythonModels/archive/data'+i+'/data'+i for i in ['X', 'Y']]\n",
    "image_paths = [i+'/CameraRGB' for i in data_dir]\n",
    "seg_paths = [i+'/CameraSeg' for i in data_dir]\n",
    "images,masks = [],[]\n",
    "for i in image_paths:\n",
    "    imgs = os.listdir(i)\n",
    "    images.extend([i+'/'+img for img in imgs])\n",
    "for i in seg_paths:\n",
    "    masks_name = os.listdir(i)\n",
    "    masks.extend([i+'/'+mask for mask in masks_name])\n"
   ]
  },
  {
   "cell_type": "code",
   "execution_count": 17,
   "outputs": [],
   "source": [
    "import albumentations as A\n",
    "\n",
    "transformations = {\n",
    "    \"resize\": A.NoOp(),\n",
    "    \"horizontal_flip\": A.HorizontalFlip(p=1.0),\n",
    "    \"vertical_flip\":  A.VerticalFlip(p=1.0),\n",
    "    \"brightness_contrast\": A.RandomBrightnessContrast(p=1.0),\n",
    "    \"shift_scale_rotate\": A.ShiftScaleRotate(shift_limit=0.1, scale_limit=0.2, rotate_limit=30, p=1.0)\n",
    "}\n"
   ],
   "metadata": {
    "collapsed": false
   }
  },
  {
   "cell_type": "code",
   "execution_count": 18,
   "outputs": [],
   "source": [
    "from PIL import Image\n",
    "import numpy as np\n",
    "# Load your image and segmentation mask file paths\n",
    "\n",
    "# Define the output directories for augmented images and masks\n",
    "output_image_dir = \"E:\\Licenta_DOC\\API_Segmentation\\data\\generated\\img_dir\"\n",
    "output_mask_dir = \"E:\\Licenta_DOC\\API_Segmentation\\data\\generated\\\\ann_dir\"\n",
    "\n",
    "# Apply augmentation pipeline to each image and mask pair\n",
    "for img_path, mask_path in zip(images, masks):\n",
    "    img = np.array(Image.open(img_path))\n",
    "    mask = np.array(Image.open(mask_path))\n",
    "\n",
    "    for transform_name, transform in transformations.items():\n",
    "        augmented = transform(image=img, mask=mask)\n",
    "        augmented_image = augmented['image']\n",
    "        augmented_mask = augmented['mask']\n",
    "\n",
    "        # Save the augmented image and mask\n",
    "        img_basename = os.path.basename(img_path)\n",
    "        mask_basename = os.path.basename(mask_path)\n",
    "\n",
    "        img_output_path = os.path.join(output_image_dir, f\"{img_basename[:-4]}_{transform_name}.jpg\")\n",
    "        mask_output_path = os.path.join(output_mask_dir, f\"{mask_basename[:-4]}_{transform_name }.png\")\n",
    "\n",
    "        image_pil = Image.fromarray(augmented_image)\n",
    "        mask_pil = Image.fromarray(augmented_mask)\n",
    "        image_pil.save(img_output_path)\n",
    "        mask_pil.save(mask_output_path)\n"
   ],
   "metadata": {
    "collapsed": false
   }
  },
  {
   "cell_type": "code",
   "execution_count": 18,
   "outputs": [],
   "source": [],
   "metadata": {
    "collapsed": false
   }
  }
 ],
 "metadata": {
  "kernelspec": {
   "display_name": "Python 3",
   "language": "python",
   "name": "python3"
  },
  "language_info": {
   "codemirror_mode": {
    "name": "ipython",
    "version": 2
   },
   "file_extension": ".py",
   "mimetype": "text/x-python",
   "name": "python",
   "nbconvert_exporter": "python",
   "pygments_lexer": "ipython2",
   "version": "2.7.6"
  }
 },
 "nbformat": 4,
 "nbformat_minor": 0
}
