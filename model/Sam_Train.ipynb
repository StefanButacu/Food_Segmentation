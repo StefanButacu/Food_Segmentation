{
 "cells": [
  {
   "cell_type": "code",
   "execution_count": 1,
   "outputs": [],
   "source": [
    "import albumentations as A\n",
    "import matplotlib.pyplot as plt\n",
    "import numpy as np\n",
    "import torch\n",
    "from albumentations.pytorch import ToTensorV2\n",
    "from torch import nn\n",
    "from torch.optim import Adam\n",
    "from tqdm import tqdm\n",
    "\n",
    "from model.FoodDataset import FoodDataset\n"
   ],
   "metadata": {
    "collapsed": false
   }
  },
  {
   "cell_type": "code",
   "execution_count": 2,
   "outputs": [],
   "source": [
    "torch.cuda.empty_cache()\n"
   ],
   "metadata": {
    "collapsed": false
   }
  },
  {
   "cell_type": "code",
   "execution_count": 3,
   "outputs": [],
   "source": [
    "image_paths = [\"E:\\Licenta_DOC\\API_Segmentation\\data2\\generated\\img_dir\"]\n",
    "seg_paths = [\"E:\\Licenta_DOC\\API_Segmentation\\data2\\generated\\\\ann_dir\"]\n",
    "\n",
    "LOAD_MODEL = False\n",
    "def get_images(batch_size=32,shuffle=True,pin_memory=True):\n",
    "    data = FoodDataset(image_paths, seg_paths,transform = t1)\n",
    "    train_size = int(0.8 * data.__len__())\n",
    "    test_size = data.__len__() - train_size\n",
    "    train_dataset, test_dataset = torch.utils.data.random_split(data, [train_size, test_size])\n",
    "    train_batch = torch.utils.data.DataLoader(train_dataset, batch_size=batch_size, shuffle=shuffle, pin_memory=pin_memory)\n",
    "    test_batch = torch.utils.data.DataLoader(test_dataset, batch_size=batch_size, shuffle=shuffle, pin_memory=pin_memory)\n",
    "    return train_batch,test_batch\n"
   ],
   "metadata": {
    "collapsed": false
   }
  },
  {
   "cell_type": "code",
   "execution_count": 4,
   "outputs": [],
   "source": [
    "\n",
    "t1 = A.Compose([\n",
    "    A.Resize(256,256),\n",
    "    A.augmentations.transforms.Normalize(mean=(0.5, 0.5, 0.5), std=(0.5, 0.5, 0.5)),\n",
    "    ToTensorV2()\n",
    "])\n",
    "\n",
    "train_batch,test_batch = get_images(batch_size=8)\n",
    "DEVICE = \"cuda\" if torch.cuda.is_available() else \"cpu\"\n",
    "\n"
   ],
   "metadata": {
    "collapsed": false
   }
  },
  {
   "cell_type": "code",
   "execution_count": 5,
   "outputs": [
    {
     "data": {
      "text/plain": "'cuda'"
     },
     "execution_count": 5,
     "metadata": {},
     "output_type": "execute_result"
    }
   ],
   "source": [
    "DEVICE"
   ],
   "metadata": {
    "collapsed": false
   }
  },
  {
   "cell_type": "code",
   "execution_count": 6,
   "outputs": [],
   "source": [
    "from torchsummary import summary\n",
    "\n",
    "\n",
    "num_classes = 104  # Number of classes for the segmentation task\n"
   ],
   "metadata": {
    "collapsed": false
   }
  },
  {
   "cell_type": "code",
   "execution_count": 7,
   "outputs": [
    {
     "name": "stdout",
     "output_type": "stream",
     "text": [
      "----------------------------------------------------------------\n",
      "        Layer (type)               Output Shape         Param #\n",
      "================================================================\n",
      "            Conv2d-1          [-1, 768, 16, 16]         590,592\n",
      "        PatchEmbed-2          [-1, 16, 16, 768]               0\n",
      "         LayerNorm-3          [-1, 16, 16, 768]           1,536\n",
      "            Linear-4         [-1, 16, 16, 2304]       1,771,776\n",
      "            Linear-5          [-1, 16, 16, 768]         590,592\n",
      "         Attention-6          [-1, 16, 16, 768]               0\n",
      "         LayerNorm-7          [-1, 16, 16, 768]           1,536\n",
      "            Linear-8         [-1, 16, 16, 3072]       2,362,368\n",
      "              GELU-9         [-1, 16, 16, 3072]               0\n",
      "           Linear-10          [-1, 16, 16, 768]       2,360,064\n",
      "         MLPBlock-11          [-1, 16, 16, 768]               0\n",
      "            Block-12          [-1, 16, 16, 768]               0\n",
      "        LayerNorm-13          [-1, 16, 16, 768]           1,536\n",
      "           Linear-14         [-1, 16, 16, 2304]       1,771,776\n",
      "           Linear-15          [-1, 16, 16, 768]         590,592\n",
      "        Attention-16          [-1, 16, 16, 768]               0\n",
      "        LayerNorm-17          [-1, 16, 16, 768]           1,536\n",
      "           Linear-18         [-1, 16, 16, 3072]       2,362,368\n",
      "             GELU-19         [-1, 16, 16, 3072]               0\n",
      "           Linear-20          [-1, 16, 16, 768]       2,360,064\n",
      "         MLPBlock-21          [-1, 16, 16, 768]               0\n",
      "            Block-22          [-1, 16, 16, 768]               0\n",
      "        LayerNorm-23          [-1, 16, 16, 768]           1,536\n",
      "           Linear-24         [-1, 16, 16, 2304]       1,771,776\n",
      "           Linear-25          [-1, 16, 16, 768]         590,592\n",
      "        Attention-26          [-1, 16, 16, 768]               0\n",
      "        LayerNorm-27          [-1, 16, 16, 768]           1,536\n",
      "           Linear-28         [-1, 16, 16, 3072]       2,362,368\n",
      "             GELU-29         [-1, 16, 16, 3072]               0\n",
      "           Linear-30          [-1, 16, 16, 768]       2,360,064\n",
      "         MLPBlock-31          [-1, 16, 16, 768]               0\n",
      "            Block-32          [-1, 16, 16, 768]               0\n",
      "        LayerNorm-33          [-1, 16, 16, 768]           1,536\n",
      "           Linear-34         [-1, 16, 16, 2304]       1,771,776\n",
      "           Linear-35          [-1, 16, 16, 768]         590,592\n",
      "        Attention-36          [-1, 16, 16, 768]               0\n",
      "        LayerNorm-37          [-1, 16, 16, 768]           1,536\n",
      "           Linear-38         [-1, 16, 16, 3072]       2,362,368\n",
      "             GELU-39         [-1, 16, 16, 3072]               0\n",
      "           Linear-40          [-1, 16, 16, 768]       2,360,064\n",
      "         MLPBlock-41          [-1, 16, 16, 768]               0\n",
      "            Block-42          [-1, 16, 16, 768]               0\n",
      "        LayerNorm-43          [-1, 16, 16, 768]           1,536\n",
      "           Linear-44         [-1, 16, 16, 2304]       1,771,776\n",
      "           Linear-45          [-1, 16, 16, 768]         590,592\n",
      "        Attention-46          [-1, 16, 16, 768]               0\n",
      "        LayerNorm-47          [-1, 16, 16, 768]           1,536\n",
      "           Linear-48         [-1, 16, 16, 3072]       2,362,368\n",
      "             GELU-49         [-1, 16, 16, 3072]               0\n",
      "           Linear-50          [-1, 16, 16, 768]       2,360,064\n",
      "         MLPBlock-51          [-1, 16, 16, 768]               0\n",
      "            Block-52          [-1, 16, 16, 768]               0\n",
      "        LayerNorm-53          [-1, 16, 16, 768]           1,536\n",
      "           Linear-54         [-1, 16, 16, 2304]       1,771,776\n",
      "           Linear-55          [-1, 16, 16, 768]         590,592\n",
      "        Attention-56          [-1, 16, 16, 768]               0\n",
      "        LayerNorm-57          [-1, 16, 16, 768]           1,536\n",
      "           Linear-58         [-1, 16, 16, 3072]       2,362,368\n",
      "             GELU-59         [-1, 16, 16, 3072]               0\n",
      "           Linear-60          [-1, 16, 16, 768]       2,360,064\n",
      "         MLPBlock-61          [-1, 16, 16, 768]               0\n",
      "            Block-62          [-1, 16, 16, 768]               0\n",
      "        LayerNorm-63          [-1, 16, 16, 768]           1,536\n",
      "           Linear-64         [-1, 16, 16, 2304]       1,771,776\n",
      "           Linear-65          [-1, 16, 16, 768]         590,592\n",
      "        Attention-66          [-1, 16, 16, 768]               0\n",
      "        LayerNorm-67          [-1, 16, 16, 768]           1,536\n",
      "           Linear-68         [-1, 16, 16, 3072]       2,362,368\n",
      "             GELU-69         [-1, 16, 16, 3072]               0\n",
      "           Linear-70          [-1, 16, 16, 768]       2,360,064\n",
      "         MLPBlock-71          [-1, 16, 16, 768]               0\n",
      "            Block-72          [-1, 16, 16, 768]               0\n",
      "        LayerNorm-73          [-1, 16, 16, 768]           1,536\n",
      "           Linear-74         [-1, 16, 16, 2304]       1,771,776\n",
      "           Linear-75          [-1, 16, 16, 768]         590,592\n",
      "        Attention-76          [-1, 16, 16, 768]               0\n",
      "        LayerNorm-77          [-1, 16, 16, 768]           1,536\n",
      "           Linear-78         [-1, 16, 16, 3072]       2,362,368\n",
      "             GELU-79         [-1, 16, 16, 3072]               0\n",
      "           Linear-80          [-1, 16, 16, 768]       2,360,064\n",
      "         MLPBlock-81          [-1, 16, 16, 768]               0\n",
      "            Block-82          [-1, 16, 16, 768]               0\n",
      "        LayerNorm-83          [-1, 16, 16, 768]           1,536\n",
      "           Linear-84         [-1, 16, 16, 2304]       1,771,776\n",
      "           Linear-85          [-1, 16, 16, 768]         590,592\n",
      "        Attention-86          [-1, 16, 16, 768]               0\n",
      "        LayerNorm-87          [-1, 16, 16, 768]           1,536\n",
      "           Linear-88         [-1, 16, 16, 3072]       2,362,368\n",
      "             GELU-89         [-1, 16, 16, 3072]               0\n",
      "           Linear-90          [-1, 16, 16, 768]       2,360,064\n",
      "         MLPBlock-91          [-1, 16, 16, 768]               0\n",
      "            Block-92          [-1, 16, 16, 768]               0\n",
      "        LayerNorm-93          [-1, 16, 16, 768]           1,536\n",
      "           Linear-94         [-1, 16, 16, 2304]       1,771,776\n",
      "           Linear-95          [-1, 16, 16, 768]         590,592\n",
      "        Attention-96          [-1, 16, 16, 768]               0\n",
      "        LayerNorm-97          [-1, 16, 16, 768]           1,536\n",
      "           Linear-98         [-1, 16, 16, 3072]       2,362,368\n",
      "             GELU-99         [-1, 16, 16, 3072]               0\n",
      "          Linear-100          [-1, 16, 16, 768]       2,360,064\n",
      "        MLPBlock-101          [-1, 16, 16, 768]               0\n",
      "           Block-102          [-1, 16, 16, 768]               0\n",
      "       LayerNorm-103          [-1, 16, 16, 768]           1,536\n",
      "          Linear-104         [-1, 16, 16, 2304]       1,771,776\n",
      "          Linear-105          [-1, 16, 16, 768]         590,592\n",
      "       Attention-106          [-1, 16, 16, 768]               0\n",
      "       LayerNorm-107          [-1, 16, 16, 768]           1,536\n",
      "          Linear-108         [-1, 16, 16, 3072]       2,362,368\n",
      "            GELU-109         [-1, 16, 16, 3072]               0\n",
      "          Linear-110          [-1, 16, 16, 768]       2,360,064\n",
      "        MLPBlock-111          [-1, 16, 16, 768]               0\n",
      "           Block-112          [-1, 16, 16, 768]               0\n",
      "       LayerNorm-113          [-1, 16, 16, 768]           1,536\n",
      "          Linear-114         [-1, 16, 16, 2304]       1,771,776\n",
      "          Linear-115          [-1, 16, 16, 768]         590,592\n",
      "       Attention-116          [-1, 16, 16, 768]               0\n",
      "       LayerNorm-117          [-1, 16, 16, 768]           1,536\n",
      "          Linear-118         [-1, 16, 16, 3072]       2,362,368\n",
      "            GELU-119         [-1, 16, 16, 3072]               0\n",
      "          Linear-120          [-1, 16, 16, 768]       2,360,064\n",
      "        MLPBlock-121          [-1, 16, 16, 768]               0\n",
      "           Block-122          [-1, 16, 16, 768]               0\n",
      "          Conv2d-123          [-1, 128, 16, 16]          98,304\n",
      "     LayerNorm2d-124          [-1, 128, 16, 16]             256\n",
      "          Conv2d-125          [-1, 128, 16, 16]         147,456\n",
      "     LayerNorm2d-126          [-1, 128, 16, 16]             256\n",
      " ImageEncoderViT-127          [-1, 128, 16, 16]               0\n",
      " ConvTranspose2d-128          [-1, 128, 32, 32]          65,664\n",
      " ConvTranspose2d-129          [-1, 256, 64, 64]         131,328\n",
      " ConvTranspose2d-130        [-1, 128, 128, 128]         131,200\n",
      " ConvTranspose2d-131        [-1, 104, 256, 256]          53,352\n",
      "================================================================\n",
      "Total params: 86,272,872\n",
      "Trainable params: 86,272,872\n",
      "Non-trainable params: 0\n",
      "----------------------------------------------------------------\n",
      "Input size (MB): 0.75\n",
      "Forward/backward pass size (MB): 405.25\n",
      "Params size (MB): 329.10\n",
      "Estimated Total Size (MB): 735.10\n",
      "----------------------------------------------------------------\n"
     ]
    }
   ],
   "source": [
    "from model.checkpoints import load_checkpoint\n",
    "from model.architectures.SAM_Architecture import SAM_Architecture\n",
    "\n",
    "model = SAM_Architecture(104).to(DEVICE) # Works\n",
    "summary(model, (3, 256, 256))\n",
    "if LOAD_MODEL:\n",
    "    load_checkpoint(torch.load('checkpoint-sam-ce_dice_loss.pth.tar'), model)"
   ],
   "metadata": {
    "collapsed": false
   }
  },
  {
   "cell_type": "code",
   "execution_count": 8,
   "outputs": [
    {
     "data": {
      "text/plain": "'sam-encoder.png'"
     },
     "execution_count": 8,
     "metadata": {},
     "output_type": "execute_result"
    }
   ],
   "source": [
    "from torchviz import make_dot\n",
    "\n",
    "# Create an instance of the model and a random input tensor\n",
    "input_tensor = torch.randn(1, 3, 256, 256).to(DEVICE)\n",
    "\n",
    "# Perform a forward pass\n",
    "output = model(input_tensor)\n",
    "\n",
    "# Visualize the model\n",
    "make_dot(output, params=dict(model.named_parameters())).render(\"sam-encoder\", format=\"png\")"
   ],
   "metadata": {
    "collapsed": false
   }
  },
  {
   "cell_type": "code",
   "execution_count": 9,
   "outputs": [],
   "source": [
    "file = open(\"loss_data/sam.csv\", \"a\")"
   ],
   "metadata": {
    "collapsed": false
   }
  },
  {
   "cell_type": "code",
   "execution_count": null,
   "outputs": [
    {
     "name": "stderr",
     "output_type": "stream",
     "text": [
      "100%|██████████| 2492/2492 [45:00<00:00,  1.08s/it, loss=1.72]\n"
     ]
    },
    {
     "name": "stdout",
     "output_type": "stream",
     "text": [
      "Epoch [1/20], Loss: 1.8534\n",
      "=>saving checkpoint to checkpoint-sam-old.pth.tar\n"
     ]
    },
    {
     "name": "stderr",
     "output_type": "stream",
     "text": [
      " 76%|███████▌  | 1885/2492 [33:43<11:18,  1.12s/it, loss=1.5] "
     ]
    }
   ],
   "source": [
    "from model.checkpoints import save_checkpoint\n",
    "from model.losses.ce_iou_loss import CE_IOU_Loss\n",
    "\n",
    "LEARNING_RATE = 1e-4\n",
    "num_epochs = 20\n",
    "\n",
    "loss_fn = CE_IOU_Loss()\n",
    "optimizer = Adam(model.parameters(), lr=LEARNING_RATE)\n",
    "scaler = torch.cuda.amp.GradScaler()\n",
    "\n",
    "for epoch in range(num_epochs):\n",
    "    loop = tqdm(enumerate(train_batch),total=len(train_batch))\n",
    "    epoch_loss = 0.0\n",
    "\n",
    "    for batch_idx, (data, targets) in loop:\n",
    "        data = data.to(DEVICE)\n",
    "        targets = targets.to(DEVICE)\n",
    "        targets = targets.type(torch.long)\n",
    "        # forward\n",
    "        with torch.cuda.amp.autocast():\n",
    "            predictions = model(data)\n",
    "            loss = loss_fn(predictions, targets)\n",
    "            epoch_loss += loss.item()\n",
    "\n",
    "        # backward\n",
    "        optimizer.zero_grad()\n",
    "        scaler.scale(loss).backward()\n",
    "        scaler.step(optimizer)\n",
    "        scaler.update()\n",
    "\n",
    "        # update tqdm loop\n",
    "        loop.set_postfix(loss=loss.item())\n",
    "    avg_loss = epoch_loss / loop.total\n",
    "    print(f'Epoch [{epoch+1}/{num_epochs}], Loss: {avg_loss:.4f}')\n",
    "    file.write(f\"{epoch+1} {avg_loss:.4f}\\n\")\n",
    "    if epoch % 3 == 0 :\n",
    "        checkpoint =  {\"state_dict\": model.state_dict(),\n",
    "                    \"optimizer\": optimizer.state_dict()\n",
    "                   }\n",
    "        save_checkpoint(checkpoint,'checkpoint-sam-old.pth.tar' )\n",
    "\n",
    "file.close()\n",
    "# save checkpoint\n",
    "checkpoint =  {\"state_dict\": model.state_dict(),\n",
    "            \"optimizer\": optimizer.state_dict()\n",
    "           }\n",
    "save_checkpoint(checkpoint,'checkpoint-sam-old.pth.tar' )"
   ],
   "metadata": {
    "collapsed": false,
    "pycharm": {
     "is_executing": true
    }
   }
  },
  {
   "cell_type": "code",
   "execution_count": null,
   "outputs": [],
   "source": [
    "\n",
    "# checkpoint =  {\"state_dict\": model.state_dict(),\n",
    "#         \"optimizer\": optimizer.state_dict()\n",
    "#        }\n",
    "# save_checkpoint(checkpoint,'checkpoint-sam-ce_dice_loss.pth.tar' )\n"
   ],
   "metadata": {
    "collapsed": false,
    "pycharm": {
     "is_executing": true
    }
   }
  },
  {
   "cell_type": "code",
   "execution_count": null,
   "outputs": [],
   "source": [
    "\n",
    "def check_accuracy(loader, model):\n",
    "    num_correct = 0\n",
    "    num_pixels = 0\n",
    "    dice_score = 0\n",
    "    model.eval()\n",
    "    iou = 0\n",
    "    with torch.no_grad():\n",
    "        for x, y in loader:\n",
    "            x = x.to(DEVICE)\n",
    "            y = y.to(DEVICE)\n",
    "            softmax = nn.Softmax(dim=1)\n",
    "            preds = torch.argmax(softmax(model(x)),axis=1)\n",
    "            # preds = model(x)\n",
    "            num_correct += (preds == y).sum()\n",
    "            num_pixels += torch.numel(preds)\n",
    "            dice_score += (2 * (preds * y).sum()) / ((preds + y).sum() + 1e-8)\n",
    "            intersection = torch.logical_and(preds, y).sum()\n",
    "            union = torch.logical_or(preds, y).sum()\n",
    "            iou += (intersection + 1e-8) / (union + 1e-8)\n",
    "\n",
    "    print(f\"Got {num_correct}/{num_pixels} with acc {num_correct/num_pixels*100:.2f}\")\n",
    "    print(f\"Dice score: {dice_score/len(loader)}\")\n",
    "    print(f\"IoU: {iou/len(loader)}\")\n",
    "    model.train()\n",
    "\n"
   ],
   "metadata": {
    "collapsed": false,
    "pycharm": {
     "is_executing": true
    }
   }
  },
  {
   "cell_type": "code",
   "execution_count": null,
   "outputs": [],
   "source": [
    "#\n",
    "# if LOAD_MODEL:\n",
    "#     load_checkpoint(torch.load('checkpoint-sam-ce_dice_loss.pth.tar'), model)"
   ],
   "metadata": {
    "collapsed": false,
    "pycharm": {
     "is_executing": true
    }
   }
  },
  {
   "cell_type": "code",
   "execution_count": null,
   "outputs": [],
   "source": [
    "# print(\"Train\")\n",
    "# check_accuracy(train_batch, model)\n",
    "\n",
    "print(\"Test\")\n",
    "check_accuracy(test_batch, model)"
   ],
   "metadata": {
    "collapsed": false,
    "pycharm": {
     "is_executing": true
    }
   }
  },
  {
   "cell_type": "code",
   "execution_count": null,
   "outputs": [],
   "source": [
    "\n",
    "\n",
    "for x,y in test_batch:\n",
    "    x = x.to(DEVICE)\n",
    "    fig , ax =  plt.subplots(3, 4, figsize=(72, 72))\n",
    "    softmax = nn.Softmax(dim=1)\n",
    "    preds = torch.argmax(softmax(model(x)),axis=1).to('cpu')\n",
    "    img1 = np.transpose(np.array(x[0,:,:,:].to('cpu')),(1,2,0))\n",
    "    preds1 = np.array(preds[0,:,:])\n",
    "    mask1 = np.array(y[0,:,:])\n",
    "    img2 = np.transpose(np.array(x[1,:,:,:].to('cpu')),(1,2,0))\n",
    "    preds2 = np.array(preds[1,:,:])\n",
    "    mask2 = np.array(y[1,:,:])\n",
    "    # print(\"Pred2\", np.unique(preds2))\n",
    "    img3 = np.transpose(np.array(x[2,:,:,:].to('cpu')),(1,2,0))\n",
    "    preds3 = np.array(preds[2,:,:])\n",
    "    mask3 = np.array(y[2,:,:])\n",
    "    # print(\"Pred3\", np.unique(preds3))\n",
    "    ax[0,0].set_title('Image')\n",
    "    ax[0,1].set_title('Prediction')\n",
    "    ax[0,2].set_title('Mask')\n",
    "    # ax[0,3].set_title('Overlay')\n",
    "    ax[1,0].set_title('Image')\n",
    "    ax[1,1].set_title('Prediction')\n",
    "    ax[1,2].set_title('Mask')\n",
    "    # ax[1,3].set_title('Overlay')\n",
    "    ax[2,0].set_title('Image')\n",
    "    ax[2,1].set_title('Prediction')\n",
    "    ax[2,2].set_title('Mask')\n",
    "    # ax[2,3].set_title('Overlay')\n",
    "    ax[0][0].axis(\"off\")\n",
    "    ax[1][0].axis(\"off\")\n",
    "    ax[2][0].axis(\"off\")\n",
    "    ax[0][1].axis(\"off\")\n",
    "    ax[1][1].axis(\"off\")\n",
    "    ax[2][1].axis(\"off\")\n",
    "    ax[0][2].axis(\"off\")\n",
    "    ax[1][2].axis(\"off\")\n",
    "    ax[2][2].axis(\"off\")\n",
    "    ax[2][3].axis(\"off\")\n",
    "    ax[0][0].imshow(img1)\n",
    "    ax[0][1].imshow(preds1)\n",
    "    ax[0][2].imshow(mask1)\n",
    "    # ax[0][3].imshow(color.label2rgb(mask1, img1, saturation=1, alpha=0.5, bg_color=None))\n",
    "\n",
    "    ax[1][0].imshow(img2)\n",
    "    ax[1][1].imshow(preds2)\n",
    "    ax[1][2].imshow(mask2)\n",
    "    ax[2][0].imshow(img3)\n",
    "    ax[2][1].imshow(preds3)\n",
    "    ax[2][2].imshow(mask3)\n",
    "    break"
   ],
   "metadata": {
    "collapsed": false,
    "pycharm": {
     "is_executing": true
    }
   }
  },
  {
   "cell_type": "code",
   "execution_count": null,
   "outputs": [],
   "source": [],
   "metadata": {
    "collapsed": false,
    "pycharm": {
     "is_executing": true
    }
   }
  }
 ],
 "metadata": {
  "kernelspec": {
   "display_name": "Python 3",
   "language": "python",
   "name": "python3"
  },
  "language_info": {
   "codemirror_mode": {
    "name": "ipython",
    "version": 2
   },
   "file_extension": ".py",
   "mimetype": "text/x-python",
   "name": "python",
   "nbconvert_exporter": "python",
   "pygments_lexer": "ipython2",
   "version": "2.7.6"
  }
 },
 "nbformat": 4,
 "nbformat_minor": 0
}
