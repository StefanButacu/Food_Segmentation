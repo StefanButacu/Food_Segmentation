{
 "cells": [
  {
   "cell_type": "code",
   "execution_count": 1,
   "metadata": {
    "collapsed": true
   },
   "outputs": [
    {
     "data": {
      "text/plain": "5"
     },
     "execution_count": 1,
     "metadata": {},
     "output_type": "execute_result"
    }
   ],
   "source": [
    "import numpy as np\n",
    "\n",
    "arr = np.array([\n",
    "    [1, 2, 2, 3],\n",
    "    [3, 3, 4, 4],\n",
    "    [4, 4, 4, 5],\n",
    "    [5, 5, 5, 5]\n",
    "])\n",
    "\n",
    "# Calculate the threshold count\n",
    "threshold_count = 5\n",
    "threshold_count\n",
    "# Find  unique values and their counts\n"
   ]
  },
  {
   "cell_type": "code",
   "execution_count": 2,
   "outputs": [
    {
     "data": {
      "text/plain": "(array([1, 2, 3, 4, 5]), array([1, 2, 3, 5, 5], dtype=int64))"
     },
     "execution_count": 2,
     "metadata": {},
     "output_type": "execute_result"
    }
   ],
   "source": [
    "unique_values, counts = np.unique(arr, return_counts=True)\n",
    "unique_values, counts"
   ],
   "metadata": {
    "collapsed": false
   }
  },
  {
   "cell_type": "code",
   "execution_count": 3,
   "outputs": [
    {
     "data": {
      "text/plain": "array([1, 2, 3])"
     },
     "execution_count": 3,
     "metadata": {},
     "output_type": "execute_result"
    }
   ],
   "source": [
    "\n",
    "# Create a mask for values with a count less than the threshold count\n",
    "mask = unique_values[counts < threshold_count]\n",
    "mask\n",
    "# Replace the elements in the array that match the mask with 0\n"
   ],
   "metadata": {
    "collapsed": false
   }
  },
  {
   "cell_type": "code",
   "execution_count": 4,
   "outputs": [],
   "source": [
    "arr[np.isin(arr, mask)] = 0\n"
   ],
   "metadata": {
    "collapsed": false
   }
  },
  {
   "cell_type": "code",
   "execution_count": 5,
   "outputs": [],
   "source": [
    "arr\n",
    "arr = np.array([\n",
    "    [1, 1, 2, 3],\n",
    "    [1, 1, 4, 4],\n",
    "    [4, 4, 4, 4],\n",
    "    [5, 5, 5, 5]\n",
    "])\n"
   ],
   "metadata": {
    "collapsed": false
   }
  },
  {
   "cell_type": "code",
   "execution_count": 6,
   "outputs": [
    {
     "data": {
      "text/plain": "(array([[1, 1, 2, 3],\n        [1, 1, 4, 4],\n        [4, 4, 4, 4],\n        [5, 5, 5, 5]]),\n {2: [255, 0, 0],\n  3: [203, 255, 0],\n  1: [0, 255, 102],\n  5: [0, 101, 255],\n  4: [203, 0, 255]})"
     },
     "execution_count": 6,
     "metadata": {},
     "output_type": "execute_result"
    }
   ],
   "source": [
    "from service.Service import Service\n",
    "\n",
    "service = Service()\n",
    "label_color = service.generate_colors_for_prediction(arr)\n",
    "label_color"
   ],
   "metadata": {
    "collapsed": false
   }
  },
  {
   "cell_type": "code",
   "execution_count": 7,
   "outputs": [
    {
     "data": {
      "text/plain": "[[(0, 0), (1, 1)],\n [(0, 2), (0, 2)],\n [(0, 3), (0, 3)],\n [(1, 0), (2, 3)],\n [(3, 0), (3, 3)]]"
     },
     "execution_count": 7,
     "metadata": {},
     "output_type": "execute_result"
    }
   ],
   "source": [
    "service.get_bounding_boxes(arr)"
   ],
   "metadata": {
    "collapsed": false
   }
  },
  {
   "cell_type": "code",
   "execution_count": 7,
   "outputs": [],
   "source": [],
   "metadata": {
    "collapsed": false
   }
  }
 ],
 "metadata": {
  "kernelspec": {
   "display_name": "Python 3",
   "language": "python",
   "name": "python3"
  },
  "language_info": {
   "codemirror_mode": {
    "name": "ipython",
    "version": 2
   },
   "file_extension": ".py",
   "mimetype": "text/x-python",
   "name": "python",
   "nbconvert_exporter": "python",
   "pygments_lexer": "ipython2",
   "version": "2.7.6"
  }
 },
 "nbformat": 4,
 "nbformat_minor": 0
}
