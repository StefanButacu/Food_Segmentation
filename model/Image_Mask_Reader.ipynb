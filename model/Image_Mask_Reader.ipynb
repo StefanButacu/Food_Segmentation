{
 "cells": [
  {
   "cell_type": "code",
   "execution_count": 2,
   "outputs": [],
   "source": [
    "import numpy as np\n",
    "import torch\n",
    "from tqdm import tqdm\n",
    "\n",
    "from torch import nn\n",
    "from torch.optim import Adam\n",
    "import matplotlib.pyplot as plt\n",
    "from albumentations.pytorch import ToTensorV2\n",
    "import albumentations as A\n",
    "\n",
    "from model.unet import Unet_model\n"
   ],
   "metadata": {
    "collapsed": false
   }
  },
  {
   "cell_type": "code",
   "execution_count": 3,
   "outputs": [],
   "source": [
    "import os\n",
    "\n",
    "import torch\n",
    "from PIL import Image\n",
    "\n",
    "import numpy as np\n",
    "from torch.utils.data import Dataset"
   ],
   "metadata": {
    "collapsed": false
   }
  },
  {
   "cell_type": "code",
   "execution_count": 4,
   "outputs": [],
   "source": [
    "def read_categories(filename):\n",
    "    category_dict = {}\n",
    "    with open(filename, 'r') as file:\n",
    "        for line in file:\n",
    "            splitted_line = line.strip().rstrip('\\n').split(\"\\t\")\n",
    "            category_id, category_name = splitted_line[0], ''.join(splitted_line[1:])\n",
    "            category_dict[category_id] = category_name\n",
    "        return category_dict\n"
   ],
   "metadata": {
    "collapsed": false
   }
  },
  {
   "cell_type": "code",
   "execution_count": 5,
   "outputs": [],
   "source": [
    "\n",
    "CATEGORY_DICT_FILE = '../data/category_id.txt'\n",
    "category_dict = read_categories(CATEGORY_DICT_FILE)\n"
   ],
   "metadata": {
    "collapsed": false
   }
  },
  {
   "cell_type": "code",
   "execution_count": 6,
   "outputs": [
    {
     "data": {
      "text/plain": "{'0': 'background',\n '1': 'candy',\n '2': 'egg tart',\n '3': 'french fries',\n '4': 'chocolate',\n '5': 'biscuit',\n '6': 'popcorn',\n '7': 'pudding',\n '8': 'ice cream',\n '9': 'cheese butter',\n '10': 'cake',\n '11': 'wine',\n '12': 'milkshake',\n '13': 'coffee',\n '14': 'juice',\n '15': 'milk',\n '16': 'tea',\n '17': 'almond',\n '18': 'red beans',\n '19': 'cashew',\n '20': 'dried cranberries',\n '21': 'soy',\n '22': 'walnut',\n '23': 'peanut',\n '24': 'egg',\n '25': 'apple',\n '26': 'date',\n '27': 'apricot',\n '28': 'avocado',\n '29': 'banana',\n '30': 'strawberry',\n '31': 'cherry',\n '32': 'blueberry',\n '33': 'raspberry',\n '34': 'mango',\n '35': 'olives',\n '36': 'peach',\n '37': 'lemon',\n '38': 'pear',\n '39': 'fig',\n '40': 'pineapple',\n '41': 'grape',\n '42': 'kiwi',\n '43': 'melon',\n '44': 'orange',\n '45': 'watermelon',\n '46': 'steak',\n '47': 'pork',\n '48': 'chicken',\n '49': 'sausage',\n '50': 'fried meat',\n '51': 'lamb',\n '52': 'sauce',\n '53': 'crab',\n '54': 'fish',\n '55': 'shellfish',\n '56': 'shrimp',\n '57': 'soup',\n '58': 'bread',\n '59': 'corn',\n '60': 'hamburg',\n '61': 'pizza',\n '62': 'hanamaki baozi',\n '63': 'wonton dumplings',\n '64': 'pasta',\n '65': 'noodles',\n '66': 'rice',\n '67': 'pie',\n '68': 'tofu',\n '69': 'eggplant',\n '70': 'potato',\n '71': 'garlic',\n '72': 'cauliflower',\n '73': 'tomato',\n '74': 'kelp',\n '75': 'seaweed',\n '76': 'spring onion',\n '77': 'rape',\n '78': 'ginger',\n '79': 'okra',\n '80': 'lettuce',\n '81': 'pumpkin',\n '82': 'cucumber',\n '83': 'white radish',\n '84': 'carrot',\n '85': 'asparagus',\n '86': 'bamboo shoots',\n '87': 'broccoli',\n '88': 'celery stick',\n '89': 'cilantro mint',\n '90': 'snow peas',\n '91': 'cabbage',\n '92': 'bean sprouts',\n '93': 'onion',\n '94': 'pepper',\n '95': 'green beans',\n '96': 'French beans',\n '97': 'king oyster mushroom',\n '98': 'shiitake',\n '99': 'enoki mushroom',\n '100': 'oyster mushroom',\n '101': 'white button mushroom',\n '102': 'salad',\n '103': 'other ingredients'}"
     },
     "execution_count": 6,
     "metadata": {},
     "output_type": "execute_result"
    }
   ],
   "source": [
    "category_dict"
   ],
   "metadata": {
    "collapsed": false
   }
  },
  {
   "cell_type": "code",
   "execution_count": 7,
   "outputs": [
    {
     "name": "stdout",
     "output_type": "stream",
     "text": [
      "img.shape= (384, 512, 3)\n",
      "mask.shape= (384, 512, 3)\n",
      "mask.uniq= [ 0 48 66 90]\n",
      "0 -> background\n",
      "48 -> chicken\n",
      "66 -> rice\n",
      "90 -> snow peas\n"
     ]
    }
   ],
   "source": [
    "img = np.array(Image.open('E:\\Licenta_DOC\\API_Segmentation\\data\\\\train\\img\\\\00000000.jpg'))\n",
    "mask = np.array(Image.open('E:\\Licenta_DOC\\API_Segmentation\\data\\\\train\\\\ann\\\\00000000.png'))\n",
    "mask = [[[category, 0, 0] for category in row] for row in mask]\n",
    "mask = np.array(mask)\n",
    "print('img.shape=',  img.shape)\n",
    "print('mask.shape=',  mask.shape)\n",
    "print('mask.uniq=', np.unique(mask))\n",
    "for x in np.unique(mask):\n",
    "    print(x , \"->\", category_dict[str(x)])"
   ],
   "metadata": {
    "collapsed": false
   }
  },
  {
   "cell_type": "code",
   "execution_count": 8,
   "outputs": [
    {
     "name": "stdout",
     "output_type": "stream",
     "text": [
      "(600, 800, 3)\n"
     ]
    }
   ],
   "source": [
    "old_mask = np.array(Image.open('E:\\PythonModels\\\\archive\\dataA\\dataA\\CameraRGB\\\\02_00_000.png'))\n",
    "print(old_mask.shape)"
   ],
   "metadata": {
    "collapsed": false
   }
  },
  {
   "cell_type": "code",
   "execution_count": 18,
   "outputs": [
    {
     "data": {
      "text/plain": "10"
     },
     "execution_count": 18,
     "metadata": {},
     "output_type": "execute_result"
    }
   ],
   "source": [
    "\n",
    "a = np.array([5, 2, 9, 3, 1, 7]) # without_zero\n",
    "b = np.array([10, 2, 2, 3, 7, 3]) # counts\n",
    "# ascending order\n",
    "# a = 2 9 3 7 1 5\n",
    "b[np.where(a == 5)[0]][0]"
   ],
   "metadata": {
    "collapsed": false
   }
  },
  {
   "cell_type": "code",
   "execution_count": 19,
   "outputs": [
    {
     "data": {
      "text/plain": "[2, 9, 3, 7, 1, 5]"
     },
     "execution_count": 19,
     "metadata": {},
     "output_type": "execute_result"
    }
   ],
   "source": [
    "a = sorted(a, key=lambda el: b[np.where(a == el)[0]][0])\n",
    "a"
   ],
   "metadata": {
    "collapsed": false
   }
  },
  {
   "cell_type": "code",
   "execution_count": 20,
   "outputs": [
    {
     "data": {
      "text/plain": "array([5, 1, 7, 3, 9, 2])"
     },
     "execution_count": 20,
     "metadata": {},
     "output_type": "execute_result"
    }
   ],
   "source": [
    "np.flip(a)"
   ],
   "metadata": {
    "collapsed": false
   }
  },
  {
   "cell_type": "code",
   "execution_count": null,
   "outputs": [],
   "source": [],
   "metadata": {
    "collapsed": false
   }
  }
 ],
 "metadata": {
  "kernelspec": {
   "display_name": "Python 3",
   "language": "python",
   "name": "python3"
  },
  "language_info": {
   "codemirror_mode": {
    "name": "ipython",
    "version": 2
   },
   "file_extension": ".py",
   "mimetype": "text/x-python",
   "name": "python",
   "nbconvert_exporter": "python",
   "pygments_lexer": "ipython2",
   "version": "2.7.6"
  }
 },
 "nbformat": 4,
 "nbformat_minor": 0
}
