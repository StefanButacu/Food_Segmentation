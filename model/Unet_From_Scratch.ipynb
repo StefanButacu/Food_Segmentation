{
 "cells": [
  {
   "cell_type": "code",
   "execution_count": 1,
   "metadata": {
    "collapsed": true
   },
   "outputs": [],
   "source": [
    "import numpy as np\n",
    "import torch\n",
    "from tqdm import tqdm\n",
    "\n",
    "from torch import nn\n",
    "from torch.optim import Adam\n",
    "import matplotlib.pyplot as plt\n",
    "from albumentations.pytorch import ToTensorV2\n",
    "import albumentations as A\n",
    "\n",
    "from model.FoodDataset import FoodDataset\n",
    "from model.architectures.unet import Unet_model"
   ]
  },
  {
   "cell_type": "code",
   "execution_count": 2,
   "outputs": [],
   "source": [
    "torch.cuda.empty_cache()\n"
   ],
   "metadata": {
    "collapsed": false
   }
  },
  {
   "cell_type": "code",
   "execution_count": 3,
   "outputs": [],
   "source": [
    "image_paths = [\"E:\\Licenta_DOC\\API_Segmentation\\data\\generated\\img_dir\"]\n",
    "seg_paths = [\"E:\\Licenta_DOC\\API_Segmentation\\data\\generated\\\\ann_dir\"]\n",
    "\n",
    "LOAD_MODEL = False\n",
    "def get_images(batch_size=16,shuffle=True,pin_memory=True):\n",
    "    data = FoodDataset(image_paths, seg_paths,transform = t1)\n",
    "    train_size = int(0.8 * data.__len__())\n",
    "    test_size = data.__len__() - train_size\n",
    "    train_dataset, test_dataset = torch.utils.data.random_split(data, [train_size, test_size])\n",
    "    train_batch = torch.utils.data.DataLoader(train_dataset, batch_size=batch_size, shuffle=shuffle, pin_memory=pin_memory)\n",
    "    test_batch = torch.utils.data.DataLoader(test_dataset, batch_size=batch_size, shuffle=shuffle, pin_memory=pin_memory)\n",
    "    return train_batch,test_batch\n"
   ],
   "metadata": {
    "collapsed": false
   }
  },
  {
   "cell_type": "code",
   "execution_count": 4,
   "outputs": [
    {
     "data": {
      "text/plain": "'|===========================================================================|\\n|                  PyTorch CUDA memory summary, device ID 0                 |\\n|---------------------------------------------------------------------------|\\n|            CUDA OOMs: 0            |        cudaMalloc retries: 0         |\\n|===========================================================================|\\n|        Metric         | Cur Usage  | Peak Usage | Tot Alloc  | Tot Freed  |\\n|---------------------------------------------------------------------------|\\n| Allocated memory      |      0 B   |      0 B   |      0 B   |      0 B   |\\n|       from large pool |      0 B   |      0 B   |      0 B   |      0 B   |\\n|       from small pool |      0 B   |      0 B   |      0 B   |      0 B   |\\n|---------------------------------------------------------------------------|\\n| Active memory         |      0 B   |      0 B   |      0 B   |      0 B   |\\n|       from large pool |      0 B   |      0 B   |      0 B   |      0 B   |\\n|       from small pool |      0 B   |      0 B   |      0 B   |      0 B   |\\n|---------------------------------------------------------------------------|\\n| Requested memory      |      0 B   |      0 B   |      0 B   |      0 B   |\\n|       from large pool |      0 B   |      0 B   |      0 B   |      0 B   |\\n|       from small pool |      0 B   |      0 B   |      0 B   |      0 B   |\\n|---------------------------------------------------------------------------|\\n| GPU reserved memory   |      0 B   |      0 B   |      0 B   |      0 B   |\\n|       from large pool |      0 B   |      0 B   |      0 B   |      0 B   |\\n|       from small pool |      0 B   |      0 B   |      0 B   |      0 B   |\\n|---------------------------------------------------------------------------|\\n| Non-releasable memory |      0 B   |      0 B   |      0 B   |      0 B   |\\n|       from large pool |      0 B   |      0 B   |      0 B   |      0 B   |\\n|       from small pool |      0 B   |      0 B   |      0 B   |      0 B   |\\n|---------------------------------------------------------------------------|\\n| Allocations           |       0    |       0    |       0    |       0    |\\n|       from large pool |       0    |       0    |       0    |       0    |\\n|       from small pool |       0    |       0    |       0    |       0    |\\n|---------------------------------------------------------------------------|\\n| Active allocs         |       0    |       0    |       0    |       0    |\\n|       from large pool |       0    |       0    |       0    |       0    |\\n|       from small pool |       0    |       0    |       0    |       0    |\\n|---------------------------------------------------------------------------|\\n| GPU reserved segments |       0    |       0    |       0    |       0    |\\n|       from large pool |       0    |       0    |       0    |       0    |\\n|       from small pool |       0    |       0    |       0    |       0    |\\n|---------------------------------------------------------------------------|\\n| Non-releasable allocs |       0    |       0    |       0    |       0    |\\n|       from large pool |       0    |       0    |       0    |       0    |\\n|       from small pool |       0    |       0    |       0    |       0    |\\n|---------------------------------------------------------------------------|\\n| Oversize allocations  |       0    |       0    |       0    |       0    |\\n|---------------------------------------------------------------------------|\\n| Oversize GPU segments |       0    |       0    |       0    |       0    |\\n|===========================================================================|\\n'"
     },
     "execution_count": 4,
     "metadata": {},
     "output_type": "execute_result"
    }
   ],
   "source": [
    "torch.cuda.memory_summary()\n"
   ],
   "metadata": {
    "collapsed": false
   }
  },
  {
   "cell_type": "code",
   "execution_count": 5,
   "outputs": [],
   "source": [
    "\n",
    "t1 = A.Compose([\n",
    "    A.Resize(256,256),\n",
    "    A.augmentations.transforms.Normalize(mean=(0.5, 0.5, 0.5), std=(0.5, 0.5, 0.5)),\n",
    "    ToTensorV2()\n",
    "])\n",
    "\n",
    "train_batch,test_batch = get_images()\n",
    "\n"
   ],
   "metadata": {
    "collapsed": false
   }
  },
  {
   "cell_type": "code",
   "execution_count": 6,
   "outputs": [],
   "source": [
    "from model.checkpoints import load_checkpoint\n",
    "\n",
    "# for img,mask in train_batch:\n",
    "#     img1 = np.transpose(img[0,:,:,:],(1,2,0))\n",
    "#     mask1 = np.array(mask[0,:,:])\n",
    "#     img2 = np.transpose(img[1,:,:,:],(1,2,0))\n",
    "#     mask2 = np.array(mask[1,:,:])\n",
    "#     img3 = np.transpose(img[2,:,:,:],(1,2,0))\n",
    "#     mask3 = np.array(mask[2,:,:])\n",
    "#     fig , ax =  plt.subplots(3, 2, figsize=(18, 18))\n",
    "#     ax[0][0].imshow(img1)\n",
    "#     ax[0][1].imshow(mask1)\n",
    "#     ax[1][0].imshow(img2)\n",
    "#     ax[1][1].imshow(mask2)\n",
    "#     ax[2][0].imshow(img3)\n",
    "#     ax[2][1].imshow(mask3)\n",
    "#     break\n",
    "\n",
    "DEVICE = \"cuda\" if torch.cuda.is_available() else \"cpu\"\n",
    "\n",
    "model = Unet_model().to(DEVICE)\n",
    "if LOAD_MODEL:\n",
    "    load_checkpoint(torch.load('checkpoint.pth.tar'), model)\n"
   ],
   "metadata": {
    "collapsed": false
   }
  },
  {
   "cell_type": "code",
   "execution_count": 7,
   "outputs": [
    {
     "data": {
      "text/plain": "'cuda'"
     },
     "execution_count": 7,
     "metadata": {},
     "output_type": "execute_result"
    }
   ],
   "source": [
    "DEVICE"
   ],
   "metadata": {
    "collapsed": false
   }
  },
  {
   "cell_type": "code",
   "execution_count": 8,
   "outputs": [],
   "source": [
    "file = open(\"loss_data/unet_data.csv\", \"a\")"
   ],
   "metadata": {
    "collapsed": false
   }
  },
  {
   "cell_type": "code",
   "execution_count": null,
   "outputs": [
    {
     "name": "stdout",
     "output_type": "stream",
     "text": [
      "----------------------------------------------------------------\n",
      "        Layer (type)               Output Shape         Param #\n",
      "================================================================\n",
      "            Conv2d-1         [-1, 64, 256, 256]           1,728\n",
      "       BatchNorm2d-2         [-1, 64, 256, 256]             128\n",
      "              ReLU-3         [-1, 64, 256, 256]               0\n",
      "            Conv2d-4         [-1, 64, 256, 256]          36,864\n",
      "       BatchNorm2d-5         [-1, 64, 256, 256]             128\n",
      "              ReLU-6         [-1, 64, 256, 256]               0\n",
      "    Encoding_block-7         [-1, 64, 256, 256]               0\n",
      "         MaxPool2d-8         [-1, 64, 128, 128]               0\n",
      "            Conv2d-9        [-1, 128, 128, 128]          73,728\n",
      "      BatchNorm2d-10        [-1, 128, 128, 128]             256\n",
      "             ReLU-11        [-1, 128, 128, 128]               0\n",
      "           Conv2d-12        [-1, 128, 128, 128]         147,456\n",
      "      BatchNorm2d-13        [-1, 128, 128, 128]             256\n",
      "             ReLU-14        [-1, 128, 128, 128]               0\n",
      "   Encoding_block-15        [-1, 128, 128, 128]               0\n",
      "        MaxPool2d-16          [-1, 128, 64, 64]               0\n",
      "           Conv2d-17          [-1, 256, 64, 64]         294,912\n",
      "      BatchNorm2d-18          [-1, 256, 64, 64]             512\n",
      "             ReLU-19          [-1, 256, 64, 64]               0\n",
      "           Conv2d-20          [-1, 256, 64, 64]         589,824\n",
      "      BatchNorm2d-21          [-1, 256, 64, 64]             512\n",
      "             ReLU-22          [-1, 256, 64, 64]               0\n",
      "   Encoding_block-23          [-1, 256, 64, 64]               0\n",
      "        MaxPool2d-24          [-1, 256, 32, 32]               0\n",
      "           Conv2d-25          [-1, 512, 32, 32]       1,179,648\n",
      "      BatchNorm2d-26          [-1, 512, 32, 32]           1,024\n",
      "             ReLU-27          [-1, 512, 32, 32]               0\n",
      "           Conv2d-28          [-1, 512, 32, 32]       2,359,296\n",
      "      BatchNorm2d-29          [-1, 512, 32, 32]           1,024\n",
      "             ReLU-30          [-1, 512, 32, 32]               0\n",
      "   Encoding_block-31          [-1, 512, 32, 32]               0\n",
      "        MaxPool2d-32          [-1, 512, 16, 16]               0\n",
      "           Conv2d-33         [-1, 1024, 16, 16]       4,718,592\n",
      "      BatchNorm2d-34         [-1, 1024, 16, 16]           2,048\n",
      "             ReLU-35         [-1, 1024, 16, 16]               0\n",
      "           Conv2d-36         [-1, 1024, 16, 16]       9,437,184\n",
      "      BatchNorm2d-37         [-1, 1024, 16, 16]           2,048\n",
      "             ReLU-38         [-1, 1024, 16, 16]               0\n",
      "   Encoding_block-39         [-1, 1024, 16, 16]               0\n",
      "  ConvTranspose2d-40          [-1, 512, 32, 32]       2,097,664\n",
      "           Conv2d-41          [-1, 512, 32, 32]       4,718,592\n",
      "      BatchNorm2d-42          [-1, 512, 32, 32]           1,024\n",
      "             ReLU-43          [-1, 512, 32, 32]               0\n",
      "           Conv2d-44          [-1, 512, 32, 32]       2,359,296\n",
      "      BatchNorm2d-45          [-1, 512, 32, 32]           1,024\n",
      "             ReLU-46          [-1, 512, 32, 32]               0\n",
      "   Encoding_block-47          [-1, 512, 32, 32]               0\n",
      "  ConvTranspose2d-48          [-1, 256, 64, 64]         524,544\n",
      "           Conv2d-49          [-1, 256, 64, 64]       1,179,648\n",
      "      BatchNorm2d-50          [-1, 256, 64, 64]             512\n",
      "             ReLU-51          [-1, 256, 64, 64]               0\n",
      "           Conv2d-52          [-1, 256, 64, 64]         589,824\n",
      "      BatchNorm2d-53          [-1, 256, 64, 64]             512\n",
      "             ReLU-54          [-1, 256, 64, 64]               0\n",
      "   Encoding_block-55          [-1, 256, 64, 64]               0\n",
      "  ConvTranspose2d-56        [-1, 128, 128, 128]         131,200\n",
      "           Conv2d-57        [-1, 128, 128, 128]         294,912\n",
      "      BatchNorm2d-58        [-1, 128, 128, 128]             256\n",
      "             ReLU-59        [-1, 128, 128, 128]               0\n",
      "           Conv2d-60        [-1, 128, 128, 128]         147,456\n",
      "      BatchNorm2d-61        [-1, 128, 128, 128]             256\n",
      "             ReLU-62        [-1, 128, 128, 128]               0\n",
      "   Encoding_block-63        [-1, 128, 128, 128]               0\n",
      "  ConvTranspose2d-64         [-1, 64, 256, 256]          32,832\n",
      "           Conv2d-65         [-1, 64, 256, 256]          73,728\n",
      "      BatchNorm2d-66         [-1, 64, 256, 256]             128\n",
      "             ReLU-67         [-1, 64, 256, 256]               0\n",
      "           Conv2d-68         [-1, 64, 256, 256]          36,864\n",
      "      BatchNorm2d-69         [-1, 64, 256, 256]             128\n",
      "             ReLU-70         [-1, 64, 256, 256]               0\n",
      "   Encoding_block-71         [-1, 64, 256, 256]               0\n",
      "           Conv2d-72        [-1, 104, 256, 256]           6,760\n",
      "================================================================\n",
      "Total params: 31,044,328\n",
      "Trainable params: 31,044,328\n",
      "Non-trainable params: 0\n",
      "----------------------------------------------------------------\n",
      "Input size (MB): 0.75\n",
      "Forward/backward pass size (MB): 981.00\n",
      "Params size (MB): 118.42\n",
      "Estimated Total Size (MB): 1100.17\n",
      "----------------------------------------------------------------\n"
     ]
    },
    {
     "name": "stderr",
     "output_type": "stream",
     "text": [
      "  0%|          | 4/1246 [01:23<7:23:16, 21.41s/it, loss=4.34]"
     ]
    }
   ],
   "source": [
    "from model.checkpoints import save_checkpoint\n",
    "\n",
    "file = open(\"loss_data/unet_data.csv\", \"a\")\n",
    "\n",
    "from torchsummary import summary\n",
    "summary(model, (3, 256, 256))\n",
    "\n",
    "LEARNING_RATE = 1e-4\n",
    "num_epochs = 5\n",
    "\n",
    "loss_fn = nn.CrossEntropyLoss()\n",
    "optimizer = Adam(model.parameters(), lr=LEARNING_RATE)\n",
    "scaler = torch.cuda.amp.GradScaler()\n",
    "\n",
    "for epoch in range(num_epochs):\n",
    "    loop = tqdm(enumerate(train_batch),total=len(train_batch))\n",
    "    epoch_loss = 0.0\n",
    "\n",
    "    for batch_idx, (data, targets) in loop:\n",
    "        data = data.to(DEVICE)\n",
    "        targets = targets.to(DEVICE)\n",
    "        targets = targets.type(torch.long)\n",
    "        # forward\n",
    "        with torch.cuda.amp.autocast():\n",
    "            predictions = model(data)\n",
    "            loss = loss_fn(predictions, targets)\n",
    "\n",
    "        # backward\n",
    "        optimizer.zero_grad()\n",
    "        scaler.scale(loss).backward()\n",
    "        scaler.step(optimizer)\n",
    "        scaler.update()\n",
    "\n",
    "        # update tqdm loop\n",
    "        epoch_loss += loss.item()\n",
    "        loop.set_postfix(loss=loss.item())\n",
    "\n",
    "    avg_loss = epoch_loss / loop.total\n",
    "\n",
    "    print(f'Epoch [{epoch+1}/{num_epochs}], Loss: {avg_loss:.4f}')\n",
    "    file.write(f\"{epoch+1},{avg_loss:.4f}\\n\")\n",
    "\n",
    "\n",
    "file.close()\n",
    "\n",
    "# save checkpoint\n",
    "checkpoint =  {\"state_dict\": model.state_dict(),\n",
    "            \"optimizer\": optimizer.state_dict()\n",
    "           }\n",
    "save_checkpoint(checkpoint,'checkpoint.pth.tar' )\n",
    "\n"
   ],
   "metadata": {
    "collapsed": false,
    "pycharm": {
     "is_executing": true
    }
   }
  },
  {
   "cell_type": "code",
   "execution_count": null,
   "outputs": [],
   "source": [
    "\n",
    "def check_accuracy(loader, model):\n",
    "    num_correct = 0\n",
    "    num_pixels = 0\n",
    "    dice_score = 0\n",
    "    model.eval()\n",
    "    iou = 0\n",
    "    with torch.no_grad():\n",
    "        for x, y in loader:\n",
    "            x = x.to(DEVICE)\n",
    "            y = y.to(DEVICE)\n",
    "            softmax = nn.Softmax(dim=1)\n",
    "            preds = torch.argmax(softmax(model(x)),axis=1)\n",
    "            num_correct += (preds == y).sum()\n",
    "            num_pixels += torch.numel(preds)\n",
    "            dice_score += (2 * (preds * y).sum()) / ((preds + y).sum() + 1e-8)\n",
    "            intersection = torch.logical_and(preds, y).sum()\n",
    "            union = torch.logical_or(preds, y).sum()\n",
    "            iou += (intersection + 1e-8) / (union + 1e-8)\n",
    "\n",
    "    print(f\"Got {num_correct}/{num_pixels} with acc {num_correct/num_pixels*100:.2f}\")\n",
    "    print(f\"Dice score: {dice_score/len(loader)}\")\n",
    "    print(f\"IoU: {iou/len(loader)}\")\n",
    "    model.train()\n",
    "\n"
   ],
   "metadata": {
    "collapsed": false,
    "pycharm": {
     "is_executing": true
    }
   }
  },
  {
   "cell_type": "code",
   "execution_count": null,
   "outputs": [],
   "source": [
    "print(\"Train\")\n",
    "check_accuracy(train_batch, model)\n",
    "\n",
    "print(\"Test\")\n",
    "check_accuracy(test_batch, model)"
   ],
   "metadata": {
    "collapsed": false,
    "pycharm": {
     "is_executing": true
    }
   }
  },
  {
   "cell_type": "code",
   "execution_count": null,
   "outputs": [],
   "source": [
    "\n",
    "from skimage import color\n",
    "\n",
    "for x,y in test_batch:\n",
    "    x = x.to(DEVICE)\n",
    "    fig , ax =  plt.subplots(3, 4, figsize=(72, 72))\n",
    "    softmax = nn.Softmax(dim=1)\n",
    "    preds = torch.argmax(softmax(model(x)),axis=1).to('cpu')\n",
    "    img1 = np.transpose(np.array(x[0,:,:,:].to('cpu')),(1,2,0))\n",
    "    preds1 = np.array(preds[0,:,:])\n",
    "    mask1 = np.array(y[0,:,:])\n",
    "    print(\"Pred1\", np.unique(preds1))\n",
    "    img2 = np.transpose(np.array(x[1,:,:,:].to('cpu')),(1,2,0))\n",
    "    preds2 = np.array(preds[1,:,:])\n",
    "    mask2 = np.array(y[1,:,:])\n",
    "    # print(\"Pred2\", np.unique(preds2))\n",
    "\n",
    "    img3 = np.transpose(np.array(x[2,:,:,:].to('cpu')),(1,2,0))\n",
    "    preds3 = np.array(preds[2,:,:])\n",
    "    mask3 = np.array(y[2,:,:])\n",
    "    # print(\"Pred3\", np.unique(preds3))\n",
    "\n",
    "    ax[0,0].set_title('Image')\n",
    "    ax[0,1].set_title('Prediction')\n",
    "    ax[0,2].set_title('Mask')\n",
    "    ax[0,3].set_title('Overlay')\n",
    "    ax[1,0].set_title('Image')\n",
    "    ax[1,1].set_title('Prediction')\n",
    "    ax[1,2].set_title('Mask')\n",
    "    ax[1,3].set_title('Overlay')\n",
    "    ax[2,0].set_title('Image')\n",
    "    ax[2,1].set_title('Prediction')\n",
    "    ax[2,2].set_title('Mask')\n",
    "    ax[2,3].set_title('Overlay')\n",
    "    ax[0][0].axis(\"off\")\n",
    "    ax[1][0].axis(\"off\")\n",
    "    ax[2][0].axis(\"off\")\n",
    "    ax[0][1].axis(\"off\")\n",
    "    ax[1][1].axis(\"off\")\n",
    "    ax[2][1].axis(\"off\")\n",
    "    ax[0][2].axis(\"off\")\n",
    "    ax[1][2].axis(\"off\")\n",
    "    ax[2][2].axis(\"off\")\n",
    "    ax[2][3].axis(\"off\")\n",
    "    ax[0][0].imshow(img1)\n",
    "    ax[0][1].imshow(preds1)\n",
    "    ax[0][2].imshow(mask1)\n",
    "    ax[0][3].imshow(color.label2rgb(mask1, img1, saturation=1, alpha=0.5, bg_color=None))\n",
    "\n",
    "    ax[1][0].imshow(img2)\n",
    "    ax[1][1].imshow(preds2)\n",
    "    ax[1][2].imshow(mask2)\n",
    "    ax[2][0].imshow(img3)\n",
    "    ax[2][1].imshow(preds3)\n",
    "    ax[2][2].imshow(mask3)\n",
    "    break"
   ],
   "metadata": {
    "collapsed": false,
    "pycharm": {
     "is_executing": true
    }
   }
  },
  {
   "cell_type": "code",
   "execution_count": null,
   "outputs": [],
   "source": [
    "model = Unet_model().to(DEVICE)\n",
    "load_checkpoint(torch.load('checkpoint.pth.tar'), model)\n",
    "\n",
    "from PIL import Image\n",
    "\n",
    "x = np.array(Image.open('E:\\Licenta_DOC\\API_Segmentation\\data\\\\train\\img\\\\00000000.jpg'))\n",
    "\n",
    "x = t1(image=x)['image']\n",
    "x = x.to(DEVICE)\n",
    "\n",
    "print(x.shape)\n",
    "x = x.unsqueeze(0)\n",
    "print(x.shape)\n",
    "softmax = nn.Softmax(dim = 1)\n",
    "preds = torch.argmax(softmax(model(x)), axis=1).to('cpu')\n",
    "img1 = np.transpose(np.array(x[0, :, :, :].to('cpu')), (1, 2, 0))\n",
    "preds1 = np.array(preds[0, :, :])\n",
    "# 160 x 240\n",
    "print(preds1)\n",
    "\n",
    "fig , ax =  plt.subplots(2, 2, figsize=(18, 18))\n",
    "ax[0,0].set_title('Image')\n",
    "ax[0,1].set_title('Prediction')\n",
    "ax[0][0].axis(\"off\")\n",
    "ax[1][0].axis(\"off\")\n",
    "ax[0][0].imshow(img1)\n",
    "ax[0][1].imshow(preds1)\n",
    "# ax[0][2].imshow(mask1)"
   ],
   "metadata": {
    "collapsed": false,
    "pycharm": {
     "is_executing": true
    }
   }
  },
  {
   "cell_type": "code",
   "execution_count": null,
   "outputs": [],
   "source": [],
   "metadata": {
    "collapsed": false,
    "pycharm": {
     "is_executing": true
    }
   }
  },
  {
   "cell_type": "code",
   "execution_count": null,
   "outputs": [],
   "source": [],
   "metadata": {
    "collapsed": false,
    "pycharm": {
     "is_executing": true
    }
   }
  }
 ],
 "metadata": {
  "kernelspec": {
   "display_name": "Python 3",
   "language": "python",
   "name": "python3"
  },
  "language_info": {
   "codemirror_mode": {
    "name": "ipython",
    "version": 2
   },
   "file_extension": ".py",
   "mimetype": "text/x-python",
   "name": "python",
   "nbconvert_exporter": "python",
   "pygments_lexer": "ipython2",
   "version": "2.7.6"
  }
 },
 "nbformat": 4,
 "nbformat_minor": 0
}
