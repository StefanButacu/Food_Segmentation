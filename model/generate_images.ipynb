{
 "cells": [
  {
   "cell_type": "code",
   "execution_count": 18,
   "metadata": {
    "collapsed": true
   },
   "outputs": [],
   "source": [
    "import os\n",
    "data_dir = ['E:/PythonModels/archive/data'+i+'/data'+i for i in ['X', 'Y']]\n",
    "image_paths = [i+'/CameraRGB' for i in data_dir]\n",
    "seg_paths = [i+'/CameraSeg' for i in data_dir]\n",
    "images,masks = [],[]\n",
    "for i in image_paths:\n",
    "    imgs = os.listdir(i)\n",
    "    images.extend([i+'/'+img for img in imgs])\n",
    "for i in seg_paths:\n",
    "    masks_name = os.listdir(i)\n",
    "    masks.extend([i+'/'+mask for mask in masks_name])\n"
   ]
  },
  {
   "cell_type": "code",
   "execution_count": 19,
   "outputs": [],
   "source": [
    "import albumentations as A\n",
    "\n",
    "augmentation_pipeline = A.Compose([\n",
    "    A.HorizontalFlip(p=0.5),\n",
    "    A.VerticalFlip(p=0.5),\n",
    "    A.RandomBrightnessContrast(p=0.5),\n",
    "    A.ShiftScaleRotate(shift_limit=0.1, scale_limit=0.2, rotate_limit=30, p=0.5),\n",
    "    A.Resize(256,256),\n",
    "    A.RandomCrop(height=256, width=256, p=0.5)\n",
    "])"
   ],
   "metadata": {
    "collapsed": false
   }
  },
  {
   "cell_type": "code",
   "execution_count": 20,
   "outputs": [],
   "source": [
    "from PIL import Image\n",
    "import cv2\n",
    "import numpy as np\n",
    "import os\n",
    "\n",
    "# Load your image and segmentation mask file paths\n",
    "\n",
    "# Define the output directories for augmented images and masks\n",
    "output_image_dir = \"E:\\Licenta_DOC\\API_Segmentation\\data\\generated\\img_dir\"\n",
    "output_mask_dir = \"E:\\Licenta_DOC\\API_Segmentation\\data\\generated\\\\ann_dir\"\n",
    "\n",
    "# Set the number of augmented images you want to generate for each original image\n",
    "num_augmentations = 5\n",
    "\n",
    "# Apply augmentation pipeline to each image and mask pair\n",
    "for img_path, mask_path in zip(images, masks):\n",
    "    img = np.array(Image.open(img_path))\n",
    "    mask = np.array(Image.open(mask_path))\n",
    "\n",
    "    for i in range(num_augmentations):\n",
    "        augmented = augmentation_pipeline(image=img, mask=mask)\n",
    "        augmented_image = augmented['image']\n",
    "        augmented_mask = augmented['mask']\n",
    "\n",
    "        # Save the augmented image and mask\n",
    "        img_basename = os.path.basename(img_path)\n",
    "        mask_basename = os.path.basename(mask_path)\n",
    "\n",
    "        img_output_path = os.path.join(output_image_dir, f\"{img_basename[:-4]}_aug_{i}.jpg\")\n",
    "        mask_output_path = os.path.join(output_mask_dir, f\"{mask_basename[:-4]}_aug_{i}.png\")\n",
    "\n",
    "        image_pil = Image.fromarray(augmented_image)\n",
    "        mask_pil = Image.fromarray(augmented_mask)\n",
    "        image_pil.save(img_output_path)\n",
    "        mask_pil.save(mask_output_path)\n"
   ],
   "metadata": {
    "collapsed": false
   }
  },
  {
   "cell_type": "code",
   "execution_count": 20,
   "outputs": [],
   "source": [],
   "metadata": {
    "collapsed": false
   }
  }
 ],
 "metadata": {
  "kernelspec": {
   "display_name": "Python 3",
   "language": "python",
   "name": "python3"
  },
  "language_info": {
   "codemirror_mode": {
    "name": "ipython",
    "version": 2
   },
   "file_extension": ".py",
   "mimetype": "text/x-python",
   "name": "python",
   "nbconvert_exporter": "python",
   "pygments_lexer": "ipython2",
   "version": "2.7.6"
  }
 },
 "nbformat": 4,
 "nbformat_minor": 0
}
